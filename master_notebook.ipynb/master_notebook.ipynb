{
  "nbformat": 4,
  "nbformat_minor": 0,
  "metadata": {
    "colab": {
      "provenance": []
    },
    "kernelspec": {
      "name": "python3",
      "display_name": "Python 3"
    },
    "language_info": {
      "name": "python"
    }
  },
  "cells": [
    {
      "cell_type": "code",
      "execution_count": null,
      "metadata": {
        "id": "VchbRh5uzqlo"
      },
      "outputs": [],
      "source": [
        "import nbformat\n",
        "from nbconvert.preprocessors import ExecutePreprocessor\n",
        "\n",
        "\n",
        "def run_notebook(notebook_path):\n",
        "    with open(notebook_path) as f:\n",
        "        nb = nbformat.read(f, as_version=4)\n",
        "    ep = ExecutePreprocessor(timeout=600, kernel_name='python3')\n",
        "    ep.preprocess(nb)\n",
        "    return nb\n",
        "\n",
        "\n",
        "# Run Notebook A\n",
        "nb_a = run_notebook(\"C:\\Users\\user\\Desktop\\Spotify_Classification_genres\\approach_A_notebook.ipynb\\approach_A_notebook.ipynb\")\n",
        "print(\"Results from Notebook A:\")\n",
        "for cell in nb_a.cells:\n",
        "    if cell.cell_type == 'code':\n",
        "        for output in cell.get('outputs', []):\n",
        "            if 'text' in output:\n",
        "                print(output['text'])\n",
        "\n",
        "# Run Notebook B\n",
        "nb_b = run_notebook(\"C:\\Users\\user\\Desktop\\Spotify_Classification_genres\\approach_B_notebook.ipynb\\approach_B_notebook.ipynb\")\n",
        "print(\"\\nResults from Notebook B:\")\n",
        "for cell in nb_b.cells:\n",
        "    if cell.cell_type == 'code':\n",
        "        for output in cell.get('outputs', []):\n",
        "            if 'text' in output:\n",
        "                print(output['text'])\n"
      ]
    }
  ]
}